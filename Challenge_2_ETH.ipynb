{
  "cells": [
    {
      "cell_type": "markdown",
      "metadata": {
        "id": "CK78I4rQXPR0"
      },
      "source": [
        "**Importing Library**"
      ]
    },
    {
      "cell_type": "code",
      "execution_count": null,
      "metadata": {
        "id": "1rSwk_FdU6-i"
      },
      "outputs": [],
      "source": [
        "import os\n",
        "import pandas as pd\n",
        "import numpy as np\n",
        "import math\n",
        "import datetime as dt\n",
        "import matplotlib.pyplot as plt\n",
        "\n",
        "# For Evalution we will use these library\n",
        "\n",
        "from sklearn.metrics import mean_squared_error, mean_absolute_error, explained_variance_score, r2_score\n",
        "from sklearn.metrics import mean_poisson_deviance, mean_gamma_deviance, accuracy_score\n",
        "from sklearn.preprocessing import MinMaxScaler\n",
        "\n",
        "# For model building we will use these library\n",
        "\n",
        "import tensorflow as tf\n",
        "from tensorflow.keras.models import Sequential\n",
        "from tensorflow.keras.layers import Dense, Dropout\n",
        "from tensorflow.keras.layers import LSTM\n",
        "\n",
        "\n",
        "# For PLotting we will use these library\n",
        "\n",
        "import matplotlib.pyplot as plt\n",
        "from itertools import cycle\n",
        "import plotly.graph_objects as go\n",
        "import plotly.express as px\n",
        "from plotly.subplots import make_subplots"
      ]
    },
    {
      "cell_type": "markdown",
      "metadata": {
        "id": "UGdbWkOWXdes"
      },
      "source": [
        "**Loading Dataset**"
      ]
    },
    {
      "cell_type": "code",
      "execution_count": null,
      "metadata": {
        "id": "hum-5deqVPp5"
      },
      "outputs": [],
      "source": [
        "# Load our dataset\n",
        "# Note it should be in same dir\n",
        "\n",
        "\n",
        "maindf=pd.read_csv('ETH-USD.csv')"
      ]
    },
    {
      "cell_type": "code",
      "execution_count": null,
      "metadata": {
        "colab": {
          "base_uri": "https://localhost:8080/"
        },
        "id": "gbcyIJIYVRWu",
        "outputId": "bdc60d92-1d27-4e6f-f3c5-80c85123490f"
      },
      "outputs": [],
      "source": [
        "print('Total number of days present in the dataset: ',maindf.shape[0])\n",
        "print('Total number of fields present in the dataset: ',maindf.shape[1])"
      ]
    },
    {
      "cell_type": "code",
      "execution_count": null,
      "metadata": {
        "colab": {
          "base_uri": "https://localhost:8080/"
        },
        "id": "AAdb6Q8IVaa7",
        "outputId": "494a990e-4171-4c9b-b780-83d0584ecca4"
      },
      "outputs": [],
      "source": [
        "maindf.shape"
      ]
    },
    {
      "cell_type": "code",
      "execution_count": null,
      "metadata": {
        "colab": {
          "base_uri": "https://localhost:8080/",
          "height": 206
        },
        "id": "BVgT7YxQVfFI",
        "outputId": "fb9ec912-4bd7-4ff4-e0d1-c5993171418d"
      },
      "outputs": [],
      "source": [
        "maindf.head()"
      ]
    },
    {
      "cell_type": "code",
      "execution_count": null,
      "metadata": {
        "colab": {
          "base_uri": "https://localhost:8080/",
          "height": 206
        },
        "id": "gY9jeUGpVg4S",
        "outputId": "f65e1557-18ff-4e30-a818-5cb822f1e5cf"
      },
      "outputs": [],
      "source": [
        "maindf.tail()"
      ]
    },
    {
      "cell_type": "code",
      "execution_count": null,
      "metadata": {
        "colab": {
          "base_uri": "https://localhost:8080/"
        },
        "id": "Gz1MisFQVkei",
        "outputId": "9d5f09c1-6541-4388-c0d3-bff619f0bfdf"
      },
      "outputs": [],
      "source": [
        "maindf.info()"
      ]
    },
    {
      "cell_type": "code",
      "execution_count": null,
      "metadata": {
        "colab": {
          "base_uri": "https://localhost:8080/",
          "height": 300
        },
        "id": "MqyjSZtxVrUn",
        "outputId": "04783ae0-8efd-40f5-b3c0-708e3dd2ffad"
      },
      "outputs": [],
      "source": [
        "maindf.describe()"
      ]
    },
    {
      "cell_type": "markdown",
      "metadata": {
        "id": "i_ZrZ-1UXlea"
      },
      "source": [
        "**Checking for Null Values**"
      ]
    },
    {
      "cell_type": "code",
      "execution_count": null,
      "metadata": {
        "colab": {
          "base_uri": "https://localhost:8080/"
        },
        "id": "P-yLw6BlVsRT",
        "outputId": "d5353cee-c387-41bf-b026-bcd064f71b15"
      },
      "outputs": [],
      "source": [
        "print('Null Values:',maindf.isnull().values.sum())"
      ]
    },
    {
      "cell_type": "code",
      "execution_count": null,
      "metadata": {
        "colab": {
          "base_uri": "https://localhost:8080/"
        },
        "id": "5rj_pogsVusI",
        "outputId": "2c5e72f2-21be-4dce-aa68-a8571f44cd3d"
      },
      "outputs": [],
      "source": [
        "print('NA values:',maindf.isnull().values.any())"
      ]
    },
    {
      "cell_type": "code",
      "execution_count": null,
      "metadata": {
        "colab": {
          "base_uri": "https://localhost:8080/"
        },
        "id": "kLQCzbuRVxvC",
        "outputId": "ed8e836f-b84a-48de-ed52-c0f8196ea0ad"
      },
      "outputs": [],
      "source": [
        "# If dataset had null values we can use this code to drop all the null values present in the dataset\n",
        "\n",
        "maindf=maindf.dropna()\n",
        "print('Null Values:',maindf.isnull().values.sum())\n",
        "print('NA values:',maindf.isnull().values.any())"
      ]
    },
    {
      "cell_type": "code",
      "execution_count": null,
      "metadata": {
        "colab": {
          "base_uri": "https://localhost:8080/"
        },
        "id": "C93Piv7cV3To",
        "outputId": "a566dfa2-1b28-4900-9b09-560d45b613fc"
      },
      "outputs": [],
      "source": [
        "# Final shape of the dataset after dealing with null values\n",
        "\n",
        "maindf.shape"
      ]
    },
    {
      "cell_type": "markdown",
      "metadata": {
        "id": "tqbMkMW2Xvg3"
      },
      "source": [
        "**EDA(Exploratory Data Analysis)**"
      ]
    },
    {
      "cell_type": "code",
      "execution_count": null,
      "metadata": {
        "colab": {
          "base_uri": "https://localhost:8080/"
        },
        "id": "SQY7PS8OV5tg",
        "outputId": "b01ef309-04b3-49ee-fc0f-9033e5497fa7"
      },
      "outputs": [],
      "source": [
        "# Printing the start date and End date of the dataset\n",
        "\n",
        "sd=maindf.iloc[0][0]\n",
        "ed=maindf.iloc[-1][0]\n",
        "\n",
        "\n",
        "print('Starting Date',sd)\n",
        "print('Ending Date',ed)"
      ]
    },
    {
      "cell_type": "markdown",
      "metadata": {
        "id": "rZ3tI0I-X1i4"
      },
      "source": [
        "StockPrice Analysis from Start"
      ]
    },
    {
      "cell_type": "markdown",
      "metadata": {
        "id": "EBYiOVjsYH0Q"
      },
      "source": [
        "Note that we only have few months in 2017 so the rest of the months are **NaN**\n"
      ]
    },
    {
      "cell_type": "markdown",
      "metadata": {
        "id": "5LkI5fu8YcIg"
      },
      "source": [
        "Note that we only have few months in 2017 so the rest of the months are not plotted since we do not have the data\n"
      ]
    },
    {
      "cell_type": "markdown",
      "metadata": {
        "id": "XG_27d93ZElv"
      },
      "source": [
        "**Analysis of Year 2017**"
      ]
    },
    {
      "cell_type": "code",
      "execution_count": null,
      "metadata": {
        "colab": {
          "base_uri": "https://localhost:8080/",
          "height": 1000
        },
        "id": "Ep1skB4wWzNW",
        "outputId": "5737c953-31a0-4276-8fec-b2319e629e17"
      },
      "outputs": [],
      "source": [
        "maindf['Date'] = pd.to_datetime(maindf['Date'], format='%Y-%m-%d')\n",
        "\n",
        "y_2017 = maindf.loc[(maindf['Date'] >= '2017-11-09')\n",
        "                     & (maindf['Date'] < '2018-01-01')]\n",
        "\n",
        "y_2017.drop(y_2017[['Adj Close','Volume']],axis=1)"
      ]
    },
    {
      "cell_type": "code",
      "execution_count": null,
      "metadata": {
        "colab": {
          "base_uri": "https://localhost:8080/",
          "height": 457
        },
        "id": "n4RMUto6XFZe",
        "outputId": "92f6b620-3c9f-4873-a869-9355120ee9ec"
      },
      "outputs": [],
      "source": [
        "monthvise= y_2017.groupby(y_2017['Date'].dt.strftime('%B'))[['Open','Close']].mean()\n",
        "new_order = ['January', 'February', 'March', 'April', 'May', 'June', 'July', 'August',\n",
        "             'September', 'October', 'November', 'December']\n",
        "monthvise = monthvise.reindex(new_order, axis=0)\n",
        "monthvise"
      ]
    },
    {
      "cell_type": "code",
      "execution_count": null,
      "metadata": {
        "colab": {
          "base_uri": "https://localhost:8080/",
          "height": 542
        },
        "id": "JF9LPRXAZK6Q",
        "outputId": "de27ae85-e580-4dc5-f449-1d71a28bea83"
      },
      "outputs": [],
      "source": [
        "fig = go.Figure()\n",
        "\n",
        "fig.add_trace(go.Bar(\n",
        "    x=monthvise.index,\n",
        "    y=monthvise['Open'],\n",
        "    name='Stock Open Price',\n",
        "    marker_color='crimson'\n",
        "))\n",
        "fig.add_trace(go.Bar(\n",
        "    x=monthvise.index,\n",
        "    y=monthvise['Close'],\n",
        "    name='Stock Close Price',\n",
        "    marker_color='lightsalmon'\n",
        "))\n",
        "\n",
        "fig.update_layout(barmode='group', xaxis_tickangle=-45,\n",
        "                  title='Monthwise comparision between Stock open and close price')\n",
        "fig.show()"
      ]
    },
    {
      "cell_type": "code",
      "execution_count": null,
      "metadata": {
        "colab": {
          "base_uri": "https://localhost:8080/",
          "height": 542
        },
        "id": "VO1UasT4ZRGu",
        "outputId": "77ab31db-79b0-4f3e-a540-6a25261a0ae8"
      },
      "outputs": [],
      "source": [
        "y_2017.groupby(y_2017['Date'].dt.strftime('%B'))['Low'].min()\n",
        "monthvise_high = y_2017.groupby(maindf['Date'].dt.strftime('%B'))['High'].max()\n",
        "monthvise_high = monthvise_high.reindex(new_order, axis=0)\n",
        "\n",
        "monthvise_low = y_2017.groupby(y_2017['Date'].dt.strftime('%B'))['Low'].min()\n",
        "monthvise_low = monthvise_low.reindex(new_order, axis=0)\n",
        "\n",
        "fig = go.Figure()\n",
        "fig.add_trace(go.Bar(\n",
        "    x=monthvise_high.index,\n",
        "    y=monthvise_high,\n",
        "    name='Stock high Price',\n",
        "    marker_color='rgb(0, 153, 204)'\n",
        "))\n",
        "fig.add_trace(go.Bar(\n",
        "    x=monthvise_low.index,\n",
        "    y=monthvise_low,\n",
        "    name='Stock low Price',\n",
        "    marker_color='rgb(255, 128, 0)'\n",
        "))\n",
        "\n",
        "fig.update_layout(barmode='group',\n",
        "                  title=' Monthwise High and Low stock price')\n",
        "fig.show()"
      ]
    },
    {
      "cell_type": "code",
      "execution_count": null,
      "metadata": {
        "colab": {
          "base_uri": "https://localhost:8080/",
          "height": 542
        },
        "id": "hIPbh5NwZYi-",
        "outputId": "6105293c-6578-408a-d3ae-e68271e3135a"
      },
      "outputs": [],
      "source": [
        "names = cycle(['Stock Open Price','Stock Close Price','Stock High Price','Stock Low Price'])\n",
        "\n",
        "fig = px.line(y_2017, x=y_2017.Date, y=[y_2017['Open'], y_2017['Close'],\n",
        "                                          y_2017['High'], y_2017['Low']],\n",
        "             labels={'Date': 'Date','value':'Stock value'})\n",
        "fig.update_layout(title_text='Stock analysis chart', font_size=15, font_color='black',legend_title_text='Stock Parameters')\n",
        "fig.for_each_trace(lambda t:  t.update(name = next(names)))\n",
        "fig.update_xaxes(showgrid=False)\n",
        "fig.update_yaxes(showgrid=False)\n",
        "\n",
        "fig.show()"
      ]
    },
    {
      "cell_type": "markdown",
      "metadata": {
        "id": "OUgcHG1UZb7m"
      },
      "source": [
        "**Analysis of Year 2018**"
      ]
    },
    {
      "cell_type": "code",
      "execution_count": null,
      "metadata": {
        "colab": {
          "base_uri": "https://localhost:8080/",
          "height": 424
        },
        "id": "iiXqoKDlZlSW",
        "outputId": "6e16368a-f290-4472-eb51-390b6a478a4e"
      },
      "outputs": [],
      "source": [
        "maindf['Date'] = pd.to_datetime(maindf['Date'], format='%Y-%m-%d')\n",
        "\n",
        "y_2018 = maindf.loc[(maindf['Date'] >= '2018-01-01')\n",
        "                     & (maindf['Date'] < '2019-01-01')]\n",
        "\n",
        "y_2018.drop(y_2018[['Adj Close','Volume']],axis=1)"
      ]
    },
    {
      "cell_type": "code",
      "execution_count": null,
      "metadata": {
        "colab": {
          "base_uri": "https://localhost:8080/",
          "height": 457
        },
        "id": "bM7nVZybZo4W",
        "outputId": "40b6af09-dc11-4276-ee5f-b619d73f1acc"
      },
      "outputs": [],
      "source": [
        "monthvise= y_2018.groupby(y_2018['Date'].dt.strftime('%B'))[['Open','Close']].mean()\n",
        "new_order = ['January', 'February', 'March', 'April', 'May', 'June', 'July', 'August',\n",
        "             'September', 'October', 'November', 'December']\n",
        "monthvise = monthvise.reindex(new_order, axis=0)\n",
        "monthvise"
      ]
    },
    {
      "cell_type": "code",
      "execution_count": null,
      "metadata": {
        "colab": {
          "base_uri": "https://localhost:8080/",
          "height": 542
        },
        "id": "GMFJeiiqZ8_F",
        "outputId": "51fd87ea-ac64-4d40-cb05-69103512a0e7"
      },
      "outputs": [],
      "source": [
        "fig = go.Figure()\n",
        "\n",
        "fig.add_trace(go.Bar(\n",
        "    x=monthvise.index,\n",
        "    y=monthvise['Open'],\n",
        "    name='Stock Open Price',\n",
        "    marker_color='crimson'\n",
        "))\n",
        "fig.add_trace(go.Bar(\n",
        "    x=monthvise.index,\n",
        "    y=monthvise['Close'],\n",
        "    name='Stock Close Price',\n",
        "    marker_color='lightsalmon'\n",
        "))\n",
        "\n",
        "fig.update_layout(barmode='group', xaxis_tickangle=-45,\n",
        "                  title='Monthwise comparision between Stock open and close price')\n",
        "fig.show()"
      ]
    },
    {
      "cell_type": "code",
      "execution_count": null,
      "metadata": {
        "colab": {
          "base_uri": "https://localhost:8080/",
          "height": 542
        },
        "id": "QjF4aUg6Z9iI",
        "outputId": "a3aa2b3b-27a6-4407-ec4b-4b9a057d83c1"
      },
      "outputs": [],
      "source": [
        "y_2018.groupby(y_2018['Date'].dt.strftime('%B'))['Low'].min()\n",
        "monthvise_high = y_2018.groupby(maindf['Date'].dt.strftime('%B'))['High'].max()\n",
        "monthvise_high = monthvise_high.reindex(new_order, axis=0)\n",
        "\n",
        "monthvise_low = y_2018.groupby(y_2018['Date'].dt.strftime('%B'))['Low'].min()\n",
        "monthvise_low = monthvise_low.reindex(new_order, axis=0)\n",
        "\n",
        "fig = go.Figure()\n",
        "fig.add_trace(go.Bar(\n",
        "    x=monthvise_high.index,\n",
        "    y=monthvise_high,\n",
        "    name='Stock high Price',\n",
        "    marker_color='rgb(0, 153, 204)'\n",
        "))\n",
        "fig.add_trace(go.Bar(\n",
        "    x=monthvise_low.index,\n",
        "    y=monthvise_low,\n",
        "    name='Stock low Price',\n",
        "    marker_color='rgb(255, 128, 0)'\n",
        "))\n",
        "\n",
        "fig.update_layout(barmode='group',\n",
        "                  title=' Monthwise High and Low stock price')\n",
        "fig.show()"
      ]
    },
    {
      "cell_type": "code",
      "execution_count": null,
      "metadata": {
        "colab": {
          "base_uri": "https://localhost:8080/",
          "height": 542
        },
        "id": "pMsk6xpWZ_qK",
        "outputId": "c64269ec-1eea-446c-fd80-9b19e8a94f2e"
      },
      "outputs": [],
      "source": [
        "names = cycle(['Stock Open Price','Stock Close Price','Stock High Price','Stock Low Price'])\n",
        "\n",
        "fig = px.line(y_2018, x=y_2018.Date, y=[y_2018['Open'], y_2018['Close'],\n",
        "                                          y_2018['High'], y_2018['Low']],\n",
        "             labels={'Date': 'Date','value':'Stock value'})\n",
        "fig.update_layout(title_text='Stock analysis chart', font_size=15, font_color='black',legend_title_text='Stock Parameters')\n",
        "fig.for_each_trace(lambda t:  t.update(name = next(names)))\n",
        "fig.update_xaxes(showgrid=False)\n",
        "fig.update_yaxes(showgrid=False)\n",
        "\n",
        "fig.show()"
      ]
    },
    {
      "cell_type": "markdown",
      "metadata": {
        "id": "W1CWVCvCaE3f"
      },
      "source": [
        "**Analysis of Year 2019**"
      ]
    },
    {
      "cell_type": "code",
      "execution_count": null,
      "metadata": {
        "colab": {
          "base_uri": "https://localhost:8080/",
          "height": 424
        },
        "id": "ls-ZrVRmaDtY",
        "outputId": "57e8f32c-50cc-4e79-a644-32a2d5feda83"
      },
      "outputs": [],
      "source": [
        "maindf['Date'] = pd.to_datetime(maindf['Date'], format='%Y-%m-%d')\n",
        "\n",
        "y_2019 = maindf.loc[(maindf['Date'] >= '2019-01-01')\n",
        "                     & (maindf['Date'] < '2020-01-01')]\n",
        "\n",
        "y_2019.drop(y_2019[['Adj Close','Volume']],axis=1)"
      ]
    },
    {
      "cell_type": "code",
      "execution_count": null,
      "metadata": {
        "colab": {
          "base_uri": "https://localhost:8080/",
          "height": 457
        },
        "id": "MsmBDR_CaLGs",
        "outputId": "e2b8d28c-9b14-4a67-e99e-7ca5c64fc8bd"
      },
      "outputs": [],
      "source": [
        "monthvise= y_2019.groupby(y_2019['Date'].dt.strftime('%B'))[['Open','Close']].mean()\n",
        "new_order = ['January', 'February', 'March', 'April', 'May', 'June', 'July', 'August',\n",
        "             'September', 'October', 'November', 'December']\n",
        "monthvise = monthvise.reindex(new_order, axis=0)\n",
        "monthvise"
      ]
    },
    {
      "cell_type": "code",
      "execution_count": null,
      "metadata": {
        "colab": {
          "base_uri": "https://localhost:8080/",
          "height": 542
        },
        "id": "uQ_W5zzVaPPP",
        "outputId": "2e035caf-8028-48a0-eed6-65b8abfa3493"
      },
      "outputs": [],
      "source": [
        "fig = go.Figure()\n",
        "\n",
        "fig.add_trace(go.Bar(\n",
        "    x=monthvise.index,\n",
        "    y=monthvise['Open'],\n",
        "    name='Stock Open Price',\n",
        "    marker_color='crimson'\n",
        "))\n",
        "fig.add_trace(go.Bar(\n",
        "    x=monthvise.index,\n",
        "    y=monthvise['Close'],\n",
        "    name='Stock Close Price',\n",
        "    marker_color='lightsalmon'\n",
        "))\n",
        "\n",
        "fig.update_layout(barmode='group', xaxis_tickangle=-45,\n",
        "                  title='Monthwise comparision between Stock open and close price')\n",
        "fig.show()"
      ]
    },
    {
      "cell_type": "code",
      "execution_count": null,
      "metadata": {
        "colab": {
          "base_uri": "https://localhost:8080/",
          "height": 542
        },
        "id": "q2vGjqJFaPtX",
        "outputId": "1a28dbcc-3edb-4e98-8c92-91796eebf575"
      },
      "outputs": [],
      "source": [
        "y_2019.groupby(y_2019['Date'].dt.strftime('%B'))['Low'].min()\n",
        "monthvise_high = y_2019.groupby(maindf['Date'].dt.strftime('%B'))['High'].max()\n",
        "monthvise_high = monthvise_high.reindex(new_order, axis=0)\n",
        "\n",
        "monthvise_low = y_2019.groupby(y_2019['Date'].dt.strftime('%B'))['Low'].min()\n",
        "monthvise_low = monthvise_low.reindex(new_order, axis=0)\n",
        "\n",
        "fig = go.Figure()\n",
        "fig.add_trace(go.Bar(\n",
        "    x=monthvise_high.index,\n",
        "    y=monthvise_high,\n",
        "    name='Stock high Price',\n",
        "    marker_color='rgb(0, 153, 204)'\n",
        "))\n",
        "fig.add_trace(go.Bar(\n",
        "    x=monthvise_low.index,\n",
        "    y=monthvise_low,\n",
        "    name='Stock low Price',\n",
        "    marker_color='rgb(255, 128, 0)'\n",
        "))\n",
        "\n",
        "fig.update_layout(barmode='group',\n",
        "                  title=' Monthwise High and Low stock price')\n",
        "fig.show()"
      ]
    },
    {
      "cell_type": "code",
      "execution_count": null,
      "metadata": {
        "colab": {
          "base_uri": "https://localhost:8080/",
          "height": 542
        },
        "id": "aH8TP3BpaTHK",
        "outputId": "52bbf019-148c-4deb-c017-1673ce63507c"
      },
      "outputs": [],
      "source": [
        "names = cycle(['Stock Open Price','Stock Close Price','Stock High Price','Stock Low Price'])\n",
        "\n",
        "fig = px.line(y_2019, x=y_2019.Date, y=[y_2019['Open'], y_2019['Close'],\n",
        "                                          y_2019['High'], y_2019['Low']],\n",
        "             labels={'Date': 'Date','value':'Stock value'})\n",
        "fig.update_layout(title_text='Stock analysis chart', font_size=15, font_color='black',legend_title_text='Stock Parameters')\n",
        "fig.for_each_trace(lambda t:  t.update(name = next(names)))\n",
        "fig.update_xaxes(showgrid=False)\n",
        "fig.update_yaxes(showgrid=False)\n",
        "\n",
        "fig.show()"
      ]
    },
    {
      "cell_type": "markdown",
      "metadata": {
        "id": "Tq-NjjTiaXph"
      },
      "source": [
        "**Analysis of Year 2020**"
      ]
    },
    {
      "cell_type": "code",
      "execution_count": null,
      "metadata": {
        "colab": {
          "base_uri": "https://localhost:8080/",
          "height": 424
        },
        "id": "cBwa_kPfaU_h",
        "outputId": "da402541-1e80-4f46-d8b9-65a7d7864129"
      },
      "outputs": [],
      "source": [
        "maindf['Date'] = pd.to_datetime(maindf['Date'], format='%Y-%m-%d')\n",
        "\n",
        "y_2020 = maindf.loc[(maindf['Date'] >= '2020-01-01')\n",
        "                     & (maindf['Date'] < '2021-01-01')]\n",
        "\n",
        "y_2020.drop(y_2020[['Adj Close','Volume']],axis=1)"
      ]
    },
    {
      "cell_type": "code",
      "execution_count": null,
      "metadata": {
        "colab": {
          "base_uri": "https://localhost:8080/",
          "height": 457
        },
        "id": "Z5wxGAQSaawT",
        "outputId": "0e525380-d705-433e-8d5c-82da78dcb166"
      },
      "outputs": [],
      "source": [
        "monthvise= y_2020.groupby(y_2020['Date'].dt.strftime('%B'))[['Open','Close']].mean()\n",
        "new_order = ['January', 'February', 'March', 'April', 'May', 'June', 'July', 'August',\n",
        "             'September', 'October', 'November', 'December']\n",
        "monthvise = monthvise.reindex(new_order, axis=0)\n",
        "monthvise"
      ]
    },
    {
      "cell_type": "code",
      "execution_count": null,
      "metadata": {
        "colab": {
          "base_uri": "https://localhost:8080/",
          "height": 542
        },
        "id": "yXro9qVwaeCr",
        "outputId": "ad11d358-8622-4f42-b153-42ff6381c28b"
      },
      "outputs": [],
      "source": [
        "fig = go.Figure()\n",
        "\n",
        "fig.add_trace(go.Bar(\n",
        "    x=monthvise.index,\n",
        "    y=monthvise['Open'],\n",
        "    name='Stock Open Price',\n",
        "    marker_color='crimson'\n",
        "))\n",
        "fig.add_trace(go.Bar(\n",
        "    x=monthvise.index,\n",
        "    y=monthvise['Close'],\n",
        "    name='Stock Close Price',\n",
        "    marker_color='lightsalmon'\n",
        "))\n",
        "\n",
        "fig.update_layout(barmode='group', xaxis_tickangle=-45,\n",
        "                  title='Monthwise comparision between Stock open and close price')\n",
        "fig.show()"
      ]
    },
    {
      "cell_type": "code",
      "execution_count": null,
      "metadata": {
        "colab": {
          "base_uri": "https://localhost:8080/",
          "height": 542
        },
        "id": "AV5qfP1cagxy",
        "outputId": "a53be928-3995-47e9-b450-0cc2cc4d920f"
      },
      "outputs": [],
      "source": [
        "y_2020.groupby(y_2020['Date'].dt.strftime('%B'))['Low'].min()\n",
        "monthvise_high = y_2020.groupby(maindf['Date'].dt.strftime('%B'))['High'].max()\n",
        "monthvise_high = monthvise_high.reindex(new_order, axis=0)\n",
        "\n",
        "monthvise_low = y_2020.groupby(y_2020['Date'].dt.strftime('%B'))['Low'].min()\n",
        "monthvise_low = monthvise_low.reindex(new_order, axis=0)\n",
        "\n",
        "fig = go.Figure()\n",
        "fig.add_trace(go.Bar(\n",
        "    x=monthvise_high.index,\n",
        "    y=monthvise_high,\n",
        "    name='Stock high Price',\n",
        "    marker_color='rgb(0, 153, 204)'\n",
        "))\n",
        "fig.add_trace(go.Bar(\n",
        "    x=monthvise_low.index,\n",
        "    y=monthvise_low,\n",
        "    name='Stock low Price',\n",
        "    marker_color='rgb(255, 128, 0)'\n",
        "))\n",
        "\n",
        "fig.update_layout(barmode='group',\n",
        "                  title=' Monthwise High and Low stock price')\n",
        "fig.show()"
      ]
    },
    {
      "cell_type": "code",
      "execution_count": null,
      "metadata": {
        "colab": {
          "base_uri": "https://localhost:8080/",
          "height": 542
        },
        "id": "awTPX-ufanbR",
        "outputId": "1a2edab1-03a1-4117-8038-649d186e0296"
      },
      "outputs": [],
      "source": [
        "names = cycle(['Stock Open Price','Stock Close Price','Stock High Price','Stock Low Price'])\n",
        "\n",
        "fig = px.line(y_2020, x=y_2020.Date, y=[y_2020['Open'], y_2020['Close'],\n",
        "                                          y_2020['High'], y_2020['Low']],\n",
        "             labels={'Date': 'Date','value':'Stock value'})\n",
        "fig.update_layout(title_text='Stock analysis chart', font_size=15, font_color='black',legend_title_text='Stock Parameters')\n",
        "fig.for_each_trace(lambda t:  t.update(name = next(names)))\n",
        "fig.update_xaxes(showgrid=False)\n",
        "fig.update_yaxes(showgrid=False)\n",
        "\n",
        "fig.show()"
      ]
    },
    {
      "cell_type": "markdown",
      "metadata": {
        "id": "9WL_-bb8avMN"
      },
      "source": [
        "**`Analysis of Year 2021`**"
      ]
    },
    {
      "cell_type": "code",
      "execution_count": null,
      "metadata": {
        "colab": {
          "base_uri": "https://localhost:8080/",
          "height": 424
        },
        "id": "-eonYYVpap7R",
        "outputId": "f50d2b74-4e74-4634-d02f-1c19b12121f6"
      },
      "outputs": [],
      "source": [
        "maindf['Date'] = pd.to_datetime(maindf['Date'], format='%Y-%m-%d')\n",
        "\n",
        "y_2021 = maindf.loc[(maindf['Date'] >= '2021-01-01')\n",
        "                     & (maindf['Date'] < '2021-12-31')]\n",
        "\n",
        "y_2021.drop(y_2021[['Adj Close','Volume']],axis=1)"
      ]
    },
    {
      "cell_type": "code",
      "execution_count": null,
      "metadata": {
        "colab": {
          "base_uri": "https://localhost:8080/",
          "height": 457
        },
        "id": "aXPef_sAaytq",
        "outputId": "a30bfc80-6dda-429c-eab8-a24dc4daa740"
      },
      "outputs": [],
      "source": [
        "monthvise= y_2021.groupby(y_2021['Date'].dt.strftime('%B'))[['Open','Close']].mean()\n",
        "new_order = ['January', 'February', 'March', 'April', 'May', 'June', 'July', 'August',\n",
        "             'September', 'October', 'November', 'December']\n",
        "monthvise = monthvise.reindex(new_order, axis=0)\n",
        "monthvise"
      ]
    },
    {
      "cell_type": "code",
      "execution_count": null,
      "metadata": {
        "colab": {
          "base_uri": "https://localhost:8080/",
          "height": 542
        },
        "id": "1PjD4QQka1OG",
        "outputId": "61c4e79c-18ff-491f-c3da-9b1a13cedacb"
      },
      "outputs": [],
      "source": [
        "fig = go.Figure()\n",
        "\n",
        "fig.add_trace(go.Bar(\n",
        "    x=monthvise.index,\n",
        "    y=monthvise['Open'],\n",
        "    name='Stock Open Price',\n",
        "    marker_color='crimson'\n",
        "))\n",
        "fig.add_trace(go.Bar(\n",
        "    x=monthvise.index,\n",
        "    y=monthvise['Close'],\n",
        "    name='Stock Close Price',\n",
        "    marker_color='lightsalmon'\n",
        "))\n",
        "\n",
        "fig.update_layout(barmode='group', xaxis_tickangle=-45,\n",
        "                  title='Monthwise comparision between Stock open and close price')\n",
        "fig.show()\n"
      ]
    },
    {
      "cell_type": "code",
      "execution_count": null,
      "metadata": {
        "colab": {
          "base_uri": "https://localhost:8080/",
          "height": 542
        },
        "id": "Vjw9DZrkbGZ6",
        "outputId": "a224d1ce-1425-45dc-e76b-cdc4aa8c7e57"
      },
      "outputs": [],
      "source": [
        "y_2021.groupby(y_2021['Date'].dt.strftime('%B'))['Low'].min()\n",
        "monthvise_high = y_2021.groupby(maindf['Date'].dt.strftime('%B'))['High'].max()\n",
        "monthvise_high = monthvise_high.reindex(new_order, axis=0)\n",
        "\n",
        "monthvise_low = y_2021.groupby(y_2021['Date'].dt.strftime('%B'))['Low'].min()\n",
        "monthvise_low = monthvise_low.reindex(new_order, axis=0)\n",
        "\n",
        "fig = go.Figure()\n",
        "fig.add_trace(go.Bar(\n",
        "    x=monthvise_high.index,\n",
        "    y=monthvise_high,\n",
        "    name='Stock high Price',\n",
        "    marker_color='rgb(0, 153, 204)'\n",
        "))\n",
        "fig.add_trace(go.Bar(\n",
        "    x=monthvise_low.index,\n",
        "    y=monthvise_low,\n",
        "    name='Stock low Price',\n",
        "    marker_color='rgb(255, 128, 0)'\n",
        "))\n",
        "\n",
        "fig.update_layout(barmode='group',\n",
        "                  title=' Monthwise High and Low stock price')\n",
        "fig.show()"
      ]
    },
    {
      "cell_type": "code",
      "execution_count": null,
      "metadata": {
        "colab": {
          "base_uri": "https://localhost:8080/",
          "height": 542
        },
        "id": "MvWfl7wJbOXX",
        "outputId": "abc1c427-cda2-4787-b226-c742b6e2b6fe"
      },
      "outputs": [],
      "source": [
        "names = cycle(['Stock Open Price','Stock Close Price','Stock High Price','Stock Low Price'])\n",
        "\n",
        "fig = px.line(y_2021, x=y_2021.Date, y=[y_2021['Open'], y_2021['Close'],\n",
        "                                          y_2021['High'], y_2021['Low']],\n",
        "             labels={'Date': 'Date','value':'Stock value'})\n",
        "fig.update_layout(title_text='Stock analysis chart', font_size=15, font_color='black',legend_title_text='Stock Parameters')\n",
        "fig.for_each_trace(lambda t:  t.update(name = next(names)))\n",
        "fig.update_xaxes(showgrid=False)\n",
        "fig.update_yaxes(showgrid=False)\n",
        "\n",
        "fig.show()"
      ]
    },
    {
      "cell_type": "markdown",
      "metadata": {
        "id": "aszkfVYCbTlv"
      },
      "source": [
        "**Analysis of Year 2022**"
      ]
    },
    {
      "cell_type": "code",
      "execution_count": null,
      "metadata": {
        "colab": {
          "base_uri": "https://localhost:8080/",
          "height": 424
        },
        "id": "vcv59d16bQG0",
        "outputId": "c70e52c3-903f-4b32-804c-f7feed065152"
      },
      "outputs": [],
      "source": [
        "maindf['Date'] = pd.to_datetime(maindf['Date'], format='%Y-%m-%d')\n",
        "\n",
        "y_2022 = maindf.loc[(maindf['Date'] >= '2022-01-01')\n",
        "                     & (maindf['Date'] <= '2022-12-31')]\n",
        "\n",
        "y_2022.drop(y_2015[['Adj Close','Volume']],axis=1)"
      ]
    },
    {
      "cell_type": "code",
      "execution_count": null,
      "metadata": {
        "colab": {
          "base_uri": "https://localhost:8080/",
          "height": 457
        },
        "id": "Aru1PKdsbcCb",
        "outputId": "b2ce5388-16ca-4f21-a26a-dd9c71e94a23"
      },
      "outputs": [],
      "source": [
        "monthvise= y_2022.groupby(y_2022['Date'].dt.strftime('%B'))[['Open','Close']].mean()\n",
        "new_order = ['January', 'February', 'March', 'April', 'May', 'June', 'July', 'August',\n",
        "             'September', 'October', 'November', 'December']\n",
        "monthvise = monthvise.reindex(new_order, axis=0)\n",
        "monthvise"
      ]
    },
    {
      "cell_type": "code",
      "execution_count": null,
      "metadata": {
        "colab": {
          "base_uri": "https://localhost:8080/",
          "height": 542
        },
        "id": "tU6RTFmXbeHm",
        "outputId": "b6455227-5238-481a-f101-d6850931725f"
      },
      "outputs": [],
      "source": [
        "fig = go.Figure()\n",
        "\n",
        "fig.add_trace(go.Bar(\n",
        "    x=monthvise.index,\n",
        "    y=monthvise['Open'],\n",
        "    name='Stock Open Price',\n",
        "    marker_color='crimson'\n",
        "))\n",
        "fig.add_trace(go.Bar(\n",
        "    x=monthvise.index,\n",
        "    y=monthvise['Close'],\n",
        "    name='Stock Close Price',\n",
        "    marker_color='lightsalmon'\n",
        "))\n",
        "\n",
        "fig.update_layout(barmode='group', xaxis_tickangle=-45,\n",
        "                  title='Monthwise comparision between Stock open and close price')\n",
        "fig.show()"
      ]
    },
    {
      "cell_type": "code",
      "execution_count": null,
      "metadata": {
        "colab": {
          "base_uri": "https://localhost:8080/",
          "height": 542
        },
        "id": "rKJbfAsXbgLN",
        "outputId": "3a6158b8-aa61-41ea-818b-7e267eca42bc"
      },
      "outputs": [],
      "source": [
        "y_2022.groupby(y_2022['Date'].dt.strftime('%B'))['Low'].min()\n",
        "monthvise_high = y_2022.groupby(maindf['Date'].dt.strftime('%B'))['High'].max()\n",
        "monthvise_high = monthvise_high.reindex(new_order, axis=0)\n",
        "\n",
        "monthvise_low = y_2022.groupby(y_2022['Date'].dt.strftime('%B'))['Low'].min()\n",
        "monthvise_low = monthvise_low.reindex(new_order, axis=0)\n",
        "\n",
        "fig = go.Figure()\n",
        "fig.add_trace(go.Bar(\n",
        "    x=monthvise_high.index,\n",
        "    y=monthvise_high,\n",
        "    name='Stock high Price',\n",
        "    marker_color='rgb(0, 153, 204)'\n",
        "))\n",
        "fig.add_trace(go.Bar(\n",
        "    x=monthvise_low.index,\n",
        "    y=monthvise_low,\n",
        "    name='Stock low Price',\n",
        "    marker_color='rgb(255, 128, 0)'\n",
        "))\n",
        "\n",
        "fig.update_layout(barmode='group',\n",
        "                  title=' Monthwise High and Low stock price')\n",
        "fig.show()"
      ]
    },
    {
      "cell_type": "code",
      "execution_count": null,
      "metadata": {
        "colab": {
          "base_uri": "https://localhost:8080/",
          "height": 542
        },
        "id": "-68u9zpkbisQ",
        "outputId": "88fd99d6-0b6a-41f0-cc34-15e69532e5e5"
      },
      "outputs": [],
      "source": [
        "names = cycle(['Stock Open Price','Stock Close Price','Stock High Price','Stock Low Price'])\n",
        "\n",
        "fig = px.line(y_2022, x=y_2022.Date, y=[y_2022['Open'], y_2022['Close'],\n",
        "                                          y_2022['High'], y_2022['Low']],\n",
        "             labels={'Date': 'Date','value':'Stock value'})\n",
        "fig.update_layout(title_text='Stock analysis chart', font_size=15, font_color='black',legend_title_text='Stock Parameters')\n",
        "fig.for_each_trace(lambda t:  t.update(name = next(names)))\n",
        "fig.update_xaxes(showgrid=False)\n",
        "fig.update_yaxes(showgrid=False)\n",
        "\n",
        "fig.show()"
      ]
    },
    {
      "cell_type": "markdown",
      "metadata": {
        "id": "PbId7DfYbnb_"
      },
      "source": [
        "**Overall Analysis from 2014-2022**"
      ]
    },
    {
      "cell_type": "code",
      "execution_count": null,
      "metadata": {
        "colab": {
          "base_uri": "https://localhost:8080/",
          "height": 424
        },
        "id": "O6ZS0kt5bkfM",
        "outputId": "92810f57-8fe1-44e6-a329-8a876cc7fe3d"
      },
      "outputs": [],
      "source": [
        "maindf['Date'] = pd.to_datetime(maindf['Date'], format='%Y-%m-%d')\n",
        "\n",
        "y_overall = maindf.loc[(maindf['Date'] >= '2017-11-09')\n",
        "                     & (maindf['Date'] <= '2022-12-31')]\n",
        "\n",
        "y_overall.drop(y_overall[['Adj Close','Volume']],axis=1)"
      ]
    },
    {
      "cell_type": "code",
      "execution_count": null,
      "metadata": {
        "colab": {
          "base_uri": "https://localhost:8080/",
          "height": 457
        },
        "id": "RphbMK-BbrHe",
        "outputId": "f20d70f7-4bf7-48bb-d9c9-d20f72a01d51"
      },
      "outputs": [],
      "source": [
        "monthvise= y_overall.groupby(y_overall['Date'].dt.strftime('%B'))[['Open','Close']].mean()\n",
        "new_order = ['January', 'February', 'March', 'April', 'May', 'June', 'July', 'August',\n",
        "             'September', 'October', 'November', 'December']\n",
        "monthvise = monthvise.reindex(new_order, axis=0)\n",
        "monthvise"
      ]
    },
    {
      "cell_type": "code",
      "execution_count": null,
      "metadata": {
        "colab": {
          "base_uri": "https://localhost:8080/",
          "height": 542
        },
        "id": "G90lQobBbtTm",
        "outputId": "6e8bb1a1-db8e-41d8-f9c1-25735b6c3988"
      },
      "outputs": [],
      "source": [
        "names = cycle(['Stock Open Price','Stock Close Price','Stock High Price','Stock Low Price'])\n",
        "\n",
        "fig = px.line(y_overall, x=y_overall.Date, y=[y_overall['Open'], y_overall['Close'],\n",
        "                                          y_overall['High'], y_overall['Low']],\n",
        "             labels={'Date': 'Date','value':'Stock value'})\n",
        "fig.update_layout(title_text='Stock analysis chart', font_size=15, font_color='black',legend_title_text='Stock Parameters')\n",
        "fig.for_each_trace(lambda t:  t.update(name = next(names)))\n",
        "fig.update_xaxes(showgrid=False)\n",
        "fig.update_yaxes(showgrid=False)\n",
        "\n",
        "fig.show()"
      ]
    },
    {
      "cell_type": "markdown",
      "metadata": {
        "id": "rwYBw8OMbzKm"
      },
      "source": [
        "**Building LSTM Model**\n",
        "- First Step is Preparing Data for Training and Testing\n",
        "- Here we are just considering 1 year data for training data\n",
        "- Since Bitcoin price has drastically flucated from 200 dollar in year 2014 to 15000 dollar in year 2018 to 3000 dollar in year 2019(theses values are apporx) so we will just consider 1 Year to avoid this type of flucation in the data.\n",
        "- As we want to predict Close Price of the Bitcoin so we are just Considering Close aand Date"
      ]
    },
    {
      "cell_type": "code",
      "execution_count": null,
      "metadata": {
        "colab": {
          "base_uri": "https://localhost:8080/"
        },
        "id": "j7y0-Qi-byV2",
        "outputId": "ecbea4c3-cd0a-4da7-8395-469455b27730"
      },
      "outputs": [],
      "source": [
        "# Lets First Take all the Close Price\n",
        "closedf = maindf[['Date','Close']]\n",
        "print(\"Shape of close dataframe:\", closedf.shape)"
      ]
    },
    {
      "cell_type": "code",
      "execution_count": null,
      "metadata": {
        "colab": {
          "base_uri": "https://localhost:8080/",
          "height": 542
        },
        "id": "IeK3sLeUcLJs",
        "outputId": "b75db839-3c3c-4213-8027-430f019096a8"
      },
      "outputs": [],
      "source": [
        "fig = px.line(closedf, x=closedf.Date, y=closedf.Close,labels={'date':'Date','close':'Close Stock'})\n",
        "fig.update_traces(marker_line_width=2, opacity=0.8, marker_line_color='orange')\n",
        "fig.update_layout(title_text='Whole period of timeframe of Bitcoin close price 2014-2022', plot_bgcolor='white',\n",
        "                  font_size=15, font_color='black')\n",
        "fig.update_xaxes(showgrid=False)\n",
        "fig.update_yaxes(showgrid=False)\n",
        "fig.show()"
      ]
    },
    {
      "cell_type": "markdown",
      "metadata": {
        "id": "wZsBUJctcTAW"
      },
      "source": [
        "**Now we will Take data of just 1 Year**"
      ]
    },
    {
      "cell_type": "code",
      "execution_count": null,
      "metadata": {
        "colab": {
          "base_uri": "https://localhost:8080/"
        },
        "id": "nhs4zFZtcN7o",
        "outputId": "b48fc349-ba3b-4324-c373-ae6a8aec8d4b"
      },
      "outputs": [],
      "source": [
        "closedf = closedf[closedf['Date'] > '2021-02-19']\n",
        "close_stock = closedf.copy()\n",
        "print(\"Total data for prediction: \",closedf.shape[0])"
      ]
    },
    {
      "cell_type": "code",
      "execution_count": null,
      "metadata": {
        "colab": {
          "base_uri": "https://localhost:8080/",
          "height": 424
        },
        "id": "NJ5uqGwgcgY3",
        "outputId": "55c2722e-f175-41b3-f990-82a0f90ff7fc"
      },
      "outputs": [],
      "source": [
        "closedf"
      ]
    },
    {
      "cell_type": "code",
      "execution_count": null,
      "metadata": {
        "colab": {
          "base_uri": "https://localhost:8080/",
          "height": 542
        },
        "id": "9Bqph1Brciha",
        "outputId": "e731b2b4-39a4-42c6-eaa5-393269eaaf15"
      },
      "outputs": [],
      "source": [
        "fig = px.line(closedf, x=closedf.Date, y=closedf.Close,labels={'date':'Date','close':'Close Stock'})\n",
        "fig.update_traces(marker_line_width=2, opacity=0.8, marker_line_color='orange')\n",
        "fig.update_layout(title_text='Considered period to predict Bitcoin close price',\n",
        "                  plot_bgcolor='white', font_size=15, font_color='black')\n",
        "fig.update_xaxes(showgrid=False)\n",
        "fig.update_yaxes(showgrid=False)\n",
        "fig.show()\n"
      ]
    },
    {
      "cell_type": "markdown",
      "metadata": {
        "id": "MpOzNiAVcwad"
      },
      "source": [
        "- Normalizing Data\n",
        "- Normalization is a technique often applied as part of data preparation for machine learning. The goal of normalization is to change the values of numeric columns in the dataset to use a common scale, without distorting differences in the ranges of values or losing information.\n",
        "- MinMaxScaler. For each value in a feature, MinMaxScaler subtracts the minimum value in the feature and then divides by the range. The range is the difference between the original maximum and original minimum. MinMaxScaler preserves the shape of the original distribution."
      ]
    },
    {
      "cell_type": "code",
      "execution_count": null,
      "metadata": {
        "colab": {
          "base_uri": "https://localhost:8080/"
        },
        "id": "YQ-mGe42ck_T",
        "outputId": "5f0d0083-a136-4684-bcac-3251ed143673"
      },
      "outputs": [],
      "source": [
        "# deleting date column and normalizing using MinMax Scaler\n",
        "\n",
        "del closedf['Date']\n",
        "scaler=MinMaxScaler(feature_range=(0,1))\n",
        "closedf=scaler.fit_transform(np.array(closedf).reshape(-1,1))\n",
        "print(closedf.shape)"
      ]
    },
    {
      "cell_type": "markdown",
      "metadata": {
        "id": "d4X4GcEsc5yZ"
      },
      "source": [
        " - Slicing data into Training set and Testing set"
      ]
    },
    {
      "cell_type": "code",
      "execution_count": null,
      "metadata": {
        "colab": {
          "base_uri": "https://localhost:8080/"
        },
        "id": "eZ5K6Zhuc3bv",
        "outputId": "c11fea64-40bb-4c1a-aad8-b8f6e2dd233c"
      },
      "outputs": [],
      "source": [
        "# we keep the training set as 60% and 40% testing set\n",
        "\n",
        "training_size=int(len(closedf)*0.60)\n",
        "test_size=len(closedf)-training_size\n",
        "train_data,test_data=closedf[0:training_size,:],closedf[training_size:len(closedf),:1]\n",
        "print(\"train_data: \", train_data.shape)\n",
        "print(\"test_data: \", test_data.shape)"
      ]
    },
    {
      "cell_type": "markdown",
      "metadata": {
        "id": "iM7s3ce4dCdG"
      },
      "source": [
        "- Now we Transform the Close price based on Time-series-analysis forecasting requirement , Here we will take 15"
      ]
    },
    {
      "cell_type": "code",
      "execution_count": null,
      "metadata": {
        "id": "AoxLkxrNdAtf"
      },
      "outputs": [],
      "source": [
        "# convert an array of values into a dataset matrix\n",
        "\n",
        "def create_dataset(dataset, time_step=1):\n",
        "    dataX, dataY = [], []\n",
        "    for i in range(len(dataset)-time_step-1):\n",
        "        a = dataset[i:(i+time_step), 0]   ###i=0, 0,1,2,3-----99   100\n",
        "        dataX.append(a)\n",
        "        dataY.append(dataset[i + time_step, 0])\n",
        "    return np.array(dataX), np.array(dataY)"
      ]
    },
    {
      "cell_type": "code",
      "execution_count": null,
      "metadata": {
        "colab": {
          "base_uri": "https://localhost:8080/"
        },
        "id": "0NC1QNswdLl2",
        "outputId": "c8fa887a-03b8-4f1d-ea57-8c68f4aaec55"
      },
      "outputs": [],
      "source": [
        "time_step = 15\n",
        "X_train, y_train = create_dataset(train_data, time_step)\n",
        "X_test, y_test = create_dataset(test_data, time_step)\n",
        "\n",
        "print(\"X_train: \", X_train.shape)\n",
        "print(\"y_train: \", y_train.shape)\n",
        "print(\"X_test: \", X_test.shape)\n",
        "print(\"y_test\", y_test.shape)"
      ]
    },
    {
      "cell_type": "code",
      "execution_count": null,
      "metadata": {
        "colab": {
          "base_uri": "https://localhost:8080/"
        },
        "id": "6mWqHjJVdNPh",
        "outputId": "5bf4452a-bf2e-4dd3-8601-5abb31ae2e0e"
      },
      "outputs": [],
      "source": [
        "# reshape input to be [samples, time steps, features] which is required for LSTM\n",
        "X_train =X_train.reshape(X_train.shape[0],X_train.shape[1] , 1)\n",
        "X_test = X_test.reshape(X_test.shape[0],X_test.shape[1] , 1)\n",
        "\n",
        "print(\"X_train: \", X_train.shape)\n",
        "print(\"X_test: \", X_test.shape)"
      ]
    },
    {
      "cell_type": "markdown",
      "metadata": {
        "id": "K5y_VM8OdSZs"
      },
      "source": [
        "- Actual Model Building"
      ]
    },
    {
      "cell_type": "code",
      "execution_count": null,
      "metadata": {
        "id": "ZOcJLwBodQOo"
      },
      "outputs": [],
      "source": [
        "model=Sequential()\n",
        "\n",
        "model.add(LSTM(10,input_shape=(None,1),activation=\"relu\"))\n",
        "\n",
        "model.add(Dense(1))\n",
        "\n",
        "model.compile(loss=\"mean_squared_error\",optimizer=\"adam\")"
      ]
    },
    {
      "cell_type": "code",
      "execution_count": null,
      "metadata": {
        "colab": {
          "base_uri": "https://localhost:8080/"
        },
        "id": "5zhXgbOadjwm",
        "outputId": "a5ca459b-78f9-4622-f2c1-461f5e5c864a"
      },
      "outputs": [],
      "source": [
        "history = model.fit(X_train,y_train,validation_data=(X_test,y_test),epochs=200,batch_size=32,verbose=1)"
      ]
    },
    {
      "cell_type": "markdown",
      "metadata": {
        "id": "D33IXG_Mdovo"
      },
      "source": [
        "- Plotting Loss vs Validation loss"
      ]
    },
    {
      "cell_type": "code",
      "execution_count": null,
      "metadata": {
        "colab": {
          "base_uri": "https://localhost:8080/",
          "height": 469
        },
        "id": "kxLUQS-Hdruw",
        "outputId": "fa128e27-eede-4615-b272-f8aabfb27a5c"
      },
      "outputs": [],
      "source": [
        "import matplotlib.pyplot as plt\n",
        "\n",
        "loss = history.history['loss']\n",
        "val_loss = history.history['val_loss']\n",
        "\n",
        "epochs = range(len(loss))\n",
        "\n",
        "plt.plot(epochs, loss, 'r', label='Training loss')\n",
        "plt.plot(epochs, val_loss, 'b', label='Validation loss')\n",
        "plt.title('Training and validation loss')\n",
        "plt.legend(loc=0)\n",
        "plt.figure()\n",
        "\n",
        "plt.show()"
      ]
    },
    {
      "cell_type": "code",
      "execution_count": null,
      "metadata": {
        "colab": {
          "base_uri": "https://localhost:8080/"
        },
        "id": "zN5j3PQWdtRc",
        "outputId": "c942848d-3bb5-46da-de60-aedb1dbc8fdf"
      },
      "outputs": [],
      "source": [
        "### Lets Do the prediction and check performance metrics\n",
        "train_predict=model.predict(X_train)\n",
        "test_predict=model.predict(X_test)\n",
        "train_predict.shape, test_predict.shape"
      ]
    },
    {
      "cell_type": "markdown",
      "metadata": {
        "id": "sAQ0BTFfd4ab"
      },
      "source": [
        "- Model Evaluation"
      ]
    },
    {
      "cell_type": "code",
      "execution_count": null,
      "metadata": {
        "id": "087voS4Idzqz"
      },
      "outputs": [],
      "source": [
        "# Transform back to original form\n",
        "\n",
        "train_predict = scaler.inverse_transform(train_predict)\n",
        "test_predict = scaler.inverse_transform(test_predict)\n",
        "original_ytrain = scaler.inverse_transform(y_train.reshape(-1,1))\n",
        "original_ytest = scaler.inverse_transform(y_test.reshape(-1,1))"
      ]
    },
    {
      "cell_type": "markdown",
      "metadata": {
        "id": "e7SKITe_eC69"
      },
      "source": [
        "- Evaluation metrices RMSE, MSE and MAE"
      ]
    },
    {
      "cell_type": "code",
      "execution_count": null,
      "metadata": {
        "colab": {
          "base_uri": "https://localhost:8080/"
        },
        "id": "iyHD2Ywkd9hk",
        "outputId": "579f2e38-4382-4fb6-d228-8d2072090d7f"
      },
      "outputs": [],
      "source": [
        "# Evaluation metrices RMSE and MAE\n",
        "print(\"Train data RMSE: \", math.sqrt(mean_squared_error(original_ytrain,train_predict)))\n",
        "print(\"Train data MSE: \", mean_squared_error(original_ytrain,train_predict))\n",
        "print(\"Train data MAE: \", mean_absolute_error(original_ytrain,train_predict))\n",
        "print(\"-------------------------------------------------------------------------------------\")\n",
        "print(\"Test data RMSE: \", math.sqrt(mean_squared_error(original_ytest,test_predict)))\n",
        "print(\"Test data MSE: \", mean_squared_error(original_ytest,test_predict))\n",
        "print(\"Test data MAE: \", mean_absolute_error(original_ytest,test_predict))"
      ]
    },
    {
      "cell_type": "markdown",
      "metadata": {
        "id": "Y8MrJY_deKuG"
      },
      "source": [
        "- Variance Regression Score"
      ]
    },
    {
      "cell_type": "code",
      "execution_count": null,
      "metadata": {
        "colab": {
          "base_uri": "https://localhost:8080/"
        },
        "id": "9pVcw0QMeIbl",
        "outputId": "8f327db9-3525-43a7-f269-88077b13d03c"
      },
      "outputs": [],
      "source": [
        "print(\"Train data explained variance regression score:\",\n",
        "      explained_variance_score(original_ytrain, train_predict))\n",
        "print(\"Test data explained variance regression score:\",\n",
        "      explained_variance_score(original_ytest, test_predict))"
      ]
    },
    {
      "cell_type": "markdown",
      "metadata": {
        "id": "Ldde5KiHePD3"
      },
      "source": [
        "- R square score for regression"
      ]
    },
    {
      "cell_type": "code",
      "execution_count": null,
      "metadata": {
        "colab": {
          "base_uri": "https://localhost:8080/"
        },
        "id": "rmIBir62eNDP",
        "outputId": "fdd795a9-92b9-46cf-c16b-5375b0d00ac8"
      },
      "outputs": [],
      "source": [
        "print(\"Train data R2 score:\", r2_score(original_ytrain, train_predict))\n",
        "print(\"Test data R2 score:\", r2_score(original_ytest, test_predict))"
      ]
    },
    {
      "cell_type": "markdown",
      "metadata": {
        "id": "EQniTedUeXgZ"
      },
      "source": [
        "- Regression Loss Mean Gamma deviance regression loss (MGD) and Mean Poisson deviance regression loss (MPD)"
      ]
    },
    {
      "cell_type": "code",
      "execution_count": null,
      "metadata": {
        "colab": {
          "base_uri": "https://localhost:8080/"
        },
        "id": "rqAUNZCmeX6L",
        "outputId": "c2994c13-9a50-4c03-9b3f-8c2b99eb6e73"
      },
      "outputs": [],
      "source": [
        "print(\"Train data MGD: \", mean_gamma_deviance(original_ytrain, train_predict))\n",
        "print(\"Test data MGD: \", mean_gamma_deviance(original_ytest, test_predict))\n",
        "print(\"----------------------------------------------------------------------\")\n",
        "print(\"Train data MPD: \", mean_poisson_deviance(original_ytrain, train_predict))\n",
        "print(\"Test data MPD: \", mean_poisson_deviance(original_ytest, test_predict))"
      ]
    },
    {
      "cell_type": "markdown",
      "metadata": {
        "id": "87kXf4l1ebg2"
      },
      "source": [
        "- Comparision of original stock close price and predicted close price"
      ]
    },
    {
      "cell_type": "code",
      "execution_count": null,
      "metadata": {
        "colab": {
          "base_uri": "https://localhost:8080/",
          "height": 577
        },
        "id": "nXgP0snceSuk",
        "outputId": "3de6f1bf-c3de-420e-cfc0-14937b983da0"
      },
      "outputs": [],
      "source": [
        "# shift train predictions for plotting\n",
        "\n",
        "look_back=time_step\n",
        "trainPredictPlot = np.empty_like(closedf)\n",
        "trainPredictPlot[:, :] = np.nan\n",
        "trainPredictPlot[look_back:len(train_predict)+look_back, :] = train_predict\n",
        "print(\"Train predicted data: \", trainPredictPlot.shape)\n",
        "\n",
        "# shift test predictions for plotting\n",
        "testPredictPlot = np.empty_like(closedf)\n",
        "testPredictPlot[:, :] = np.nan\n",
        "testPredictPlot[len(train_predict)+(look_back*2)+1:len(closedf)-1, :] = test_predict\n",
        "print(\"Test predicted data: \", testPredictPlot.shape)\n",
        "\n",
        "names = cycle(['Original close price','Train predicted close price','Test predicted close price'])\n",
        "\n",
        "\n",
        "plotdf = pd.DataFrame({'date': close_stock['Date'],\n",
        "                       'original_close': close_stock['Close'],\n",
        "                      'train_predicted_close': trainPredictPlot.reshape(1,-1)[0].tolist(),\n",
        "                      'test_predicted_close': testPredictPlot.reshape(1,-1)[0].tolist()})\n",
        "\n",
        "fig = px.line(plotdf,x=plotdf['date'], y=[plotdf['original_close'],plotdf['train_predicted_close'],\n",
        "                                          plotdf['test_predicted_close']],\n",
        "              labels={'value':'Stock price','date': 'Date'})\n",
        "fig.update_layout(title_text='Comparision between original close price vs predicted close price',\n",
        "                  plot_bgcolor='white', font_size=15, font_color='black', legend_title_text='Close Price')\n",
        "fig.for_each_trace(lambda t:  t.update(name = next(names)))\n",
        "\n",
        "fig.update_xaxes(showgrid=False)\n",
        "fig.update_yaxes(showgrid=False)\n",
        "fig.show()"
      ]
    },
    {
      "cell_type": "markdown",
      "metadata": {
        "id": "3mVbEhHLexht"
      },
      "source": [
        "- Predicting next 30 days"
      ]
    },
    {
      "cell_type": "code",
      "execution_count": null,
      "metadata": {
        "colab": {
          "base_uri": "https://localhost:8080/"
        },
        "id": "DAyWvX8leWYE",
        "outputId": "afd2af1b-9431-45a8-89bc-83282732c3bc"
      },
      "outputs": [],
      "source": [
        "x_input=test_data[len(test_data)-time_step:].reshape(1,-1)\n",
        "temp_input=list(x_input)\n",
        "temp_input=temp_input[0].tolist()\n",
        "\n",
        "from numpy import array\n",
        "\n",
        "lst_output=[]\n",
        "n_steps=time_step\n",
        "i=0\n",
        "pred_days = 30\n",
        "while(i<pred_days):\n",
        "\n",
        "    if(len(temp_input)>time_step):\n",
        "\n",
        "        x_input=np.array(temp_input[1:])\n",
        "        #print(\"{} day input {}\".format(i,x_input))\n",
        "        x_input = x_input.reshape(1,-1)\n",
        "        x_input = x_input.reshape((1, n_steps, 1))\n",
        "\n",
        "        yhat = model.predict(x_input, verbose=0)\n",
        "        #print(\"{} day output {}\".format(i,yhat))\n",
        "        temp_input.extend(yhat[0].tolist())\n",
        "        temp_input=temp_input[1:]\n",
        "        #print(temp_input)\n",
        "\n",
        "        lst_output.extend(yhat.tolist())\n",
        "        i=i+1\n",
        "\n",
        "    else:\n",
        "\n",
        "        x_input = x_input.reshape((1, n_steps,1))\n",
        "        yhat = model.predict(x_input, verbose=0)\n",
        "        temp_input.extend(yhat[0].tolist())\n",
        "\n",
        "        lst_output.extend(yhat.tolist())\n",
        "        i=i+1\n",
        "\n",
        "print(\"Output of predicted next days: \", len(lst_output))"
      ]
    },
    {
      "cell_type": "markdown",
      "metadata": {
        "id": "wZZlMWGDe1Nt"
      },
      "source": [
        "- Plotting last 15 days of dataset and next predicted 30 days"
      ]
    },
    {
      "cell_type": "code",
      "execution_count": null,
      "metadata": {
        "colab": {
          "base_uri": "https://localhost:8080/"
        },
        "id": "rt__NI-Be3NC",
        "outputId": "f1240778-9c6d-409a-b199-bce1c0bd99a1"
      },
      "outputs": [],
      "source": [
        "last_days=np.arange(1,time_step+1)\n",
        "day_pred=np.arange(time_step+1,time_step+pred_days+1)\n",
        "print(last_days)\n",
        "print(day_pred)"
      ]
    },
    {
      "cell_type": "code",
      "execution_count": null,
      "metadata": {
        "colab": {
          "base_uri": "https://localhost:8080/",
          "height": 542
        },
        "id": "a63aYFJCe5v-",
        "outputId": "811df31a-6a3a-4d0c-aa10-a7525de94a48"
      },
      "outputs": [],
      "source": [
        "temp_mat = np.empty((len(last_days)+pred_days+1,1))\n",
        "temp_mat[:] = np.nan\n",
        "temp_mat = temp_mat.reshape(1,-1).tolist()[0]\n",
        "\n",
        "last_original_days_value = temp_mat\n",
        "next_predicted_days_value = temp_mat\n",
        "\n",
        "last_original_days_value[0:time_step+1] = scaler.inverse_transform(closedf[len(closedf)-time_step:]).reshape(1,-1).tolist()[0]\n",
        "next_predicted_days_value[time_step+1:] = scaler.inverse_transform(np.array(lst_output).reshape(-1,1)).reshape(1,-1).tolist()[0]\n",
        "\n",
        "new_pred_plot = pd.DataFrame({\n",
        "    'last_original_days_value':last_original_days_value,\n",
        "    'next_predicted_days_value':next_predicted_days_value\n",
        "})\n",
        "\n",
        "names = cycle(['Last 15 days close price','Predicted next 30 days close price'])\n",
        "\n",
        "fig = px.line(new_pred_plot,x=new_pred_plot.index, y=[new_pred_plot['last_original_days_value'],\n",
        "                                                      new_pred_plot['next_predicted_days_value']],\n",
        "              labels={'value': 'Stock price','index': 'Timestamp'})\n",
        "fig.update_layout(title_text='Compare last 15 days vs next 30 days',\n",
        "                  plot_bgcolor='white', font_size=15, font_color='black',legend_title_text='Close Price')\n",
        "\n",
        "fig.for_each_trace(lambda t:  t.update(name = next(names)))\n",
        "fig.update_xaxes(showgrid=False)\n",
        "fig.update_yaxes(showgrid=False)\n",
        "fig.show()"
      ]
    },
    {
      "cell_type": "markdown",
      "metadata": {
        "id": "dY5tRjg7fCve"
      },
      "source": [
        "- Plotting entire Closing Stock Price with next 30 days period of prediction"
      ]
    },
    {
      "cell_type": "code",
      "execution_count": null,
      "metadata": {
        "colab": {
          "base_uri": "https://localhost:8080/",
          "height": 542
        },
        "id": "FLwK4WgkfDfs",
        "outputId": "0d6dabef-271d-4fea-c304-f39889e941e7"
      },
      "outputs": [],
      "source": [
        "lstmdf=closedf.tolist()\n",
        "lstmdf.extend((np.array(lst_output).reshape(-1,1)).tolist())\n",
        "lstmdf=scaler.inverse_transform(lstmdf).reshape(1,-1).tolist()[0]\n",
        "\n",
        "names = cycle(['Close price'])\n",
        "\n",
        "fig = px.line(lstmdf,labels={'value': 'Stock price','index': 'Timestamp'})\n",
        "fig.update_layout(title_text='Plotting whole closing stock price with prediction',\n",
        "                  plot_bgcolor='white', font_size=15, font_color='black',legend_title_text='Stock')\n",
        "\n",
        "fig.for_each_trace(lambda t:  t.update(name = next(names)))\n",
        "\n",
        "fig.update_xaxes(showgrid=False)\n",
        "fig.update_yaxes(showgrid=False)\n",
        "fig.show()"
      ]
    }
  ],
  "metadata": {
    "colab": {
      "provenance": []
    },
    "kernelspec": {
      "display_name": "Python 3",
      "name": "python3"
    },
    "language_info": {
      "name": "python",
      "version": "3.9.7"
    }
  },
  "nbformat": 4,
  "nbformat_minor": 0
}
